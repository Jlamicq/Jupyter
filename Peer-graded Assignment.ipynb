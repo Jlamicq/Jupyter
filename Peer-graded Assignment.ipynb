{
  "metadata": {
    "language_info": {
      "codemirror_mode": {
        "name": "python",
        "version": 3
      },
      "file_extension": ".py",
      "mimetype": "text/x-python",
      "name": "python",
      "nbconvert_exporter": "python",
      "pygments_lexer": "ipython3",
      "version": "3.8"
    },
    "kernelspec": {
      "name": "python",
      "display_name": "Pyolite",
      "language": "python"
    }
  },
  "nbformat_minor": 4,
  "nbformat": 4,
  "cells": [
    {
      "cell_type": "markdown",
      "source": "# My Jupyter Notebook on IBM Watson Studio",
      "metadata": {}
    },
    {
      "cell_type": "markdown",
      "source": "**Jose Pablo Lamicq Gamboa**\n\nFinancial Data Analyst",
      "metadata": {}
    },
    {
      "cell_type": "markdown",
      "source": "*I am interested in data science because I want to be part of the future of finances,tecnology and A.I.*",
      "metadata": {}
    },
    {
      "cell_type": "markdown",
      "source": "### To the variable \"x\" we will assign the text I Love A.I., then print it to show the outcome",
      "metadata": {}
    },
    {
      "cell_type": "code",
      "source": "x=\"I Love A.I.\"\nprint (x)\n",
      "metadata": {
        "trusted": true
      },
      "execution_count": 2,
      "outputs": [
        {
          "name": "stdout",
          "text": "I Love A.I.\n",
          "output_type": "stream"
        }
      ]
    },
    {
      "cell_type": "markdown",
      "source": "*******************\n\n<a href=\"https://translate.google.com/?hl=es\">Google Translate</a>\n\n--------------------------\n\n| First Name    | Middle Name   | Last Name |\n| ------------- |:-------------:| -----:|\n| Daniel     | Eduardo | Ortega |\n| Juana      | Maria      |   Pena |\n| Ernesto | Andres      |    Cascante |\n\n",
      "metadata": {}
    },
    {
      "cell_type": "code",
      "source": "",
      "metadata": {},
      "execution_count": null,
      "outputs": []
    }
  ]
}